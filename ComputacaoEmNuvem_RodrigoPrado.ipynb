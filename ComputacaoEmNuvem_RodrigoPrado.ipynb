{
  "nbformat": 4,
  "nbformat_minor": 0,
  "metadata": {
    "colab": {
      "provenance": [],
      "authorship_tag": "ABX9TyMD4kC99bUtB89ra03Ftgn+",
      "include_colab_link": true
    },
    "kernelspec": {
      "name": "python3",
      "display_name": "Python 3"
    },
    "language_info": {
      "name": "python"
    }
  },
  "cells": [
    {
      "cell_type": "markdown",
      "metadata": {
        "id": "view-in-github",
        "colab_type": "text"
      },
      "source": [
        "<a href=\"https://colab.research.google.com/github/rgprado/computacao_nuvem/blob/main/ComputacaoEmNuvem_RodrigoPrado.ipynb\" target=\"_parent\"><img src=\"https://colab.research.google.com/assets/colab-badge.svg\" alt=\"Open In Colab\"/></a>"
      ]
    },
    {
      "cell_type": "markdown",
      "source": [
        "# Sobre os dados\n",
        "\n",
        "O arquivo CSV 'movies' contém o identificador e o nome do filme. O arquivo 'customers_rating' contém informações sobre ID do cliente, nota dada ao filme, qual a data da avaliação e o ID do filme.\n",
        "\n",
        "**Descrição das colunas:**\n",
        "\n",
        "Base 1:  \n",
        "ID do filme  \n",
        "título e ano de lançamento\n",
        "\n",
        "Base 2:  \n",
        "Cust_Id: ID do customer que fez a avaliação  \n",
        "Rating: avaliação (nota)  \n",
        "Date: data da avaliação  \n",
        "Movie_Id: ID do filme  \n",
        "\n",
        "\n",
        "**Amostra:**  \n",
        "**movies:**  \n",
        "1;(Dinosaur Planet, 2003)  \n",
        "2;(Isle of Man TT 2004 Review, 2004)  \n",
        "3;(Character, 1997)\n",
        "\n",
        "\n",
        "**customers_rating:**  \n",
        "1488844;3.0;2005-09-06;1  \n",
        "822109;5.0;2005-05-13;1  \n",
        "885013;4.0;2005-10-19;1\n",
        "\n",
        "**Nome do arquivo CSV:**  \n",
        "data/movies.csv  \n",
        "data/customers_rating.csv\n",
        "\n",
        "## Sobre as questões\n",
        "Base1 - Movies: https://drive.google.com/file/d/1gLsCjaMrL91ECdThq58cZAzB9tPxG18g/view?usp=sharing\n",
        "\n",
        "Base2 - Ratings: https://drive.google.com/file/d/1C_T1w8fc7Oa8MeTo4LMTEcv90IfEOS-6/view?usp=sharing"
      ],
      "metadata": {
        "id": "h5F2H_dk86lf"
      }
    },
    {
      "cell_type": "markdown",
      "source": [
        "## Instalação das Libs e imports"
      ],
      "metadata": {
        "id": "EYoxvKInMC-X"
      }
    },
    {
      "cell_type": "code",
      "source": [
        "!wget -q https://downloads.apache.org/spark/spark-3.0.1/spark-3.0.1-bin-hadoop2.7.tgz\n",
        "!tar xf spark-3.0.1-bin-hadoop2.7.tgz\n",
        "!pip install -q findspark\n",
        "!pip install pyspark"
      ],
      "metadata": {
        "colab": {
          "base_uri": "https://localhost:8080/"
        },
        "id": "UjviyGt3D_iM",
        "outputId": "d564d82f-8892-4f20-f431-a2b328e643b3"
      },
      "execution_count": 2,
      "outputs": [
        {
          "output_type": "stream",
          "name": "stdout",
          "text": [
            "tar: spark-3.0.1-bin-hadoop2.7.tgz: Cannot open: No such file or directory\n",
            "tar: Error is not recoverable: exiting now\n",
            "Looking in indexes: https://pypi.org/simple, https://us-python.pkg.dev/colab-wheels/public/simple/\n",
            "Collecting pyspark\n",
            "  Downloading pyspark-3.4.0.tar.gz (310.8 MB)\n",
            "\u001b[2K     \u001b[90m━━━━━━━━━━━━━━━━━━━━━━━━━━━━━━━━━━━━━━━\u001b[0m \u001b[32m310.8/310.8 MB\u001b[0m \u001b[31m3.8 MB/s\u001b[0m eta \u001b[36m0:00:00\u001b[0m\n",
            "\u001b[?25h  Preparing metadata (setup.py) ... \u001b[?25l\u001b[?25hdone\n",
            "Requirement already satisfied: py4j==0.10.9.7 in /usr/local/lib/python3.10/dist-packages (from pyspark) (0.10.9.7)\n",
            "Building wheels for collected packages: pyspark\n",
            "  Building wheel for pyspark (setup.py) ... \u001b[?25l\u001b[?25hdone\n",
            "  Created wheel for pyspark: filename=pyspark-3.4.0-py2.py3-none-any.whl size=311317145 sha256=974ed8b1630b371aeb63419c91e68803e5e2fd519fdb8c7f5ead237e24b2335a\n",
            "  Stored in directory: /root/.cache/pip/wheels/7b/1b/4b/3363a1d04368e7ff0d408e57ff57966fcdf00583774e761327\n",
            "Successfully built pyspark\n",
            "Installing collected packages: pyspark\n",
            "Successfully installed pyspark-3.4.0\n"
          ]
        }
      ]
    },
    {
      "cell_type": "code",
      "execution_count": 261,
      "metadata": {
        "id": "WfO593uu84TD"
      },
      "outputs": [],
      "source": [
        "import os\n",
        "\n",
        "os.environ['PYSPARK_SUBMIT_ARGS'] = '\\\n",
        "    --driver-memory 4G \\\n",
        "    --executor-memory 4G \\\n",
        "    pyspark-shell'\n",
        "\n",
        "from pyspark.sql import SparkSession\n",
        "from pyspark.sql import functions as F\n",
        "from datetime import datetime"
      ]
    },
    {
      "cell_type": "code",
      "source": [
        "spark = SparkSession.builder\\\n",
        "    .master(\"local[*]\")\\\n",
        "    .getOrCreate()\n",
        "spark"
      ],
      "metadata": {
        "colab": {
          "base_uri": "https://localhost:8080/",
          "height": 222
        },
        "id": "cIGPhGKnEUzJ",
        "outputId": "b1e2826c-f98b-4f10-a590-d1dc33027800"
      },
      "execution_count": 262,
      "outputs": [
        {
          "output_type": "execute_result",
          "data": {
            "text/plain": [
              "<pyspark.sql.session.SparkSession at 0x7f76344a6c20>"
            ],
            "text/html": [
              "\n",
              "            <div>\n",
              "                <p><b>SparkSession - in-memory</b></p>\n",
              "                \n",
              "        <div>\n",
              "            <p><b>SparkContext</b></p>\n",
              "\n",
              "            <p><a href=\"http://f7efbf0e9c4f:4040\">Spark UI</a></p>\n",
              "\n",
              "            <dl>\n",
              "              <dt>Version</dt>\n",
              "                <dd><code>v3.4.0</code></dd>\n",
              "              <dt>Master</dt>\n",
              "                <dd><code>local[*]</code></dd>\n",
              "              <dt>AppName</dt>\n",
              "                <dd><code>pyspark-shell</code></dd>\n",
              "            </dl>\n",
              "        </div>\n",
              "        \n",
              "            </div>\n",
              "        "
            ]
          },
          "metadata": {},
          "execution_count": 262
        }
      ]
    },
    {
      "cell_type": "markdown",
      "source": [
        "## Leitura dos arquivos csv"
      ],
      "metadata": {
        "id": "AOeyFoNqMLGm"
      }
    },
    {
      "cell_type": "code",
      "source": [
        "movies_df = spark.read.csv(f'data/movies.csv', header=False, inferSchema=True, sep=';').toDF('Movie_Id', 'Title')\n",
        "movies_df.show(5)"
      ],
      "metadata": {
        "colab": {
          "base_uri": "https://localhost:8080/"
        },
        "id": "pxsxNvE9Ip5V",
        "outputId": "b4f770c9-254a-400d-9ebc-4e1a3e37159a"
      },
      "execution_count": 263,
      "outputs": [
        {
          "output_type": "stream",
          "name": "stdout",
          "text": [
            "+--------+--------------------+\n",
            "|Movie_Id|               Title|\n",
            "+--------+--------------------+\n",
            "|       1|(Dinosaur Planet,...|\n",
            "|       2|(Isle of Man TT 2...|\n",
            "|       3|   (Character, 1997)|\n",
            "|       4|(Paula Abdul's Ge...|\n",
            "|       5|(The Rise and Fal...|\n",
            "+--------+--------------------+\n",
            "only showing top 5 rows\n",
            "\n"
          ]
        }
      ]
    },
    {
      "cell_type": "code",
      "source": [
        "movies_df.printSchema()"
      ],
      "metadata": {
        "colab": {
          "base_uri": "https://localhost:8080/"
        },
        "id": "bbTfim0bh8Vx",
        "outputId": "ab0c4c68-c19f-4dc6-edf4-c6461c75ccc8"
      },
      "execution_count": 264,
      "outputs": [
        {
          "output_type": "stream",
          "name": "stdout",
          "text": [
            "root\n",
            " |-- Movie_Id: integer (nullable = true)\n",
            " |-- Title: string (nullable = true)\n",
            "\n"
          ]
        }
      ]
    },
    {
      "cell_type": "code",
      "source": [
        "Sratings_df = spark.read.csv(f'data/customers_rating.csv', header=True, inferSchema=True, sep=';')\n",
        "ratings_df = ratings_df.na.drop(\"any\")\n",
        "ratings_df.show(5)"
      ],
      "metadata": {
        "colab": {
          "base_uri": "https://localhost:8080/"
        },
        "id": "QBP16eJ7G8iY",
        "outputId": "9d404ec8-33c7-41c1-db12-b9da383b958b"
      },
      "execution_count": 265,
      "outputs": [
        {
          "output_type": "stream",
          "name": "stdout",
          "text": [
            "+-------+------+----------+--------+\n",
            "|Cust_Id|Rating|      Date|Movie_Id|\n",
            "+-------+------+----------+--------+\n",
            "|1488844|   3.0|2005-09-06|       1|\n",
            "| 822109|   5.0|2005-05-13|       1|\n",
            "| 885013|   4.0|2005-10-19|       1|\n",
            "|  30878|   4.0|2005-12-26|       1|\n",
            "| 823519|   3.0|2004-05-03|       1|\n",
            "+-------+------+----------+--------+\n",
            "only showing top 5 rows\n",
            "\n"
          ]
        }
      ]
    },
    {
      "cell_type": "code",
      "source": [
        "ratings_df.printSchema()"
      ],
      "metadata": {
        "colab": {
          "base_uri": "https://localhost:8080/"
        },
        "id": "njZuyzT7Y2N3",
        "outputId": "e1e13562-b917-4c96-b95e-9b17684ab3d7"
      },
      "execution_count": 266,
      "outputs": [
        {
          "output_type": "stream",
          "name": "stdout",
          "text": [
            "root\n",
            " |-- Cust_Id: integer (nullable = true)\n",
            " |-- Rating: double (nullable = true)\n",
            " |-- Date: date (nullable = true)\n",
            " |-- Movie_Id: integer (nullable = true)\n",
            "\n"
          ]
        }
      ]
    },
    {
      "cell_type": "code",
      "source": [
        "ratings_df.count()"
      ],
      "metadata": {
        "colab": {
          "base_uri": "https://localhost:8080/"
        },
        "id": "rRO78q8hR48S",
        "outputId": "e57c8560-b524-44e1-d999-e7ae8912d5db"
      },
      "execution_count": 267,
      "outputs": [
        {
          "output_type": "execute_result",
          "data": {
            "text/plain": [
              "41775"
            ]
          },
          "metadata": {},
          "execution_count": 267
        }
      ]
    },
    {
      "cell_type": "markdown",
      "source": [
        "# Exercícios"
      ],
      "metadata": {
        "id": "xPFNVwOrMR3f"
      }
    },
    {
      "cell_type": "markdown",
      "source": [
        "## 1. Quantos filmes estão disponíveis no dataset?\n"
      ],
      "metadata": {
        "id": "rf2we4uSMbHR"
      }
    },
    {
      "cell_type": "code",
      "source": [
        "print(\"Total de filmes:\", movies_df.distinct().count())"
      ],
      "metadata": {
        "colab": {
          "base_uri": "https://localhost:8080/"
        },
        "id": "k7KX04UQNe1p",
        "outputId": "ffb69f25-4a98-4f91-c6b2-0be27770e945"
      },
      "execution_count": 268,
      "outputs": [
        {
          "output_type": "stream",
          "name": "stdout",
          "text": [
            "Total de filmes: 4499\n"
          ]
        }
      ]
    },
    {
      "cell_type": "markdown",
      "source": [
        "## 2. Qual é o nome dos 5 filmes com melhor média de avaliação?\n"
      ],
      "metadata": {
        "id": "xZrUlWUTMa-r"
      }
    },
    {
      "cell_type": "code",
      "source": [
        "%%time\n",
        "df = ratings_df.groupby('Movie_Id')\\\n",
        "    .mean()\\\n",
        "    .select(['Movie_Id','avg(Rating)' ])\\\n",
        "    .withColumnRenamed('avg(Rating)', 'Média')\\\n",
        "    .orderBy(F.desc('Média'))\\\n",
        "    .limit(10)\\\n",
        "    .cache() # Para salvar o df computado na memória RAM. Sai imediatamente.\n",
        "df.show(5)"
      ],
      "metadata": {
        "colab": {
          "base_uri": "https://localhost:8080/"
        },
        "id": "o7dmTSb2PQSl",
        "outputId": "9b5df6bd-63c4-4263-d8ff-7adca45940aa"
      },
      "execution_count": 269,
      "outputs": [
        {
          "output_type": "stream",
          "name": "stdout",
          "text": [
            "+--------+------------------+\n",
            "|Movie_Id|             Média|\n",
            "+--------+------------------+\n",
            "|      13|             4.552|\n",
            "|       5|3.9192982456140353|\n",
            "|      18| 3.784698713608666|\n",
            "|       1| 3.749542961608775|\n",
            "|       3|3.6411530815109345|\n",
            "+--------+------------------+\n",
            "only showing top 5 rows\n",
            "\n",
            "CPU times: user 38.3 ms, sys: 7.5 ms, total: 45.7 ms\n",
            "Wall time: 4.67 s\n"
          ]
        }
      ]
    },
    {
      "cell_type": "code",
      "source": [
        "print('Filmes com melhores avaliações')\n",
        "df.toPandas()\\\n",
        "    .merge(\n",
        "        movies_df.select('Movie_Id', 'title').toPandas(), \n",
        "        on='Movie_Id', \n",
        "        how='inner'\n",
        "    ).head(5)\n"
      ],
      "metadata": {
        "colab": {
          "base_uri": "https://localhost:8080/",
          "height": 225
        },
        "id": "6ThEbe0UU3AF",
        "outputId": "e5349cba-3adb-44d9-ba93-c26c9abeebef"
      },
      "execution_count": 270,
      "outputs": [
        {
          "output_type": "stream",
          "name": "stdout",
          "text": [
            "Filmes com melhores avaliações\n"
          ]
        },
        {
          "output_type": "execute_result",
          "data": {
            "text/plain": [
              "   Movie_Id     Média                                              title\n",
              "0        13  4.552000  (Lord of the Rings: The Return of the King: Ex...\n",
              "1         5  3.919298                   (The Rise and Fall of ECW, 2004)\n",
              "2        18  3.784699                           (Immortal Beloved, 1994)\n",
              "3         1  3.749543                            (Dinosaur Planet, 2003)\n",
              "4         3  3.641153                                  (Character, 1997)"
            ],
            "text/html": [
              "\n",
              "  <div id=\"df-a8637d85-c32b-4fc7-b721-b01754d335d4\">\n",
              "    <div class=\"colab-df-container\">\n",
              "      <div>\n",
              "<style scoped>\n",
              "    .dataframe tbody tr th:only-of-type {\n",
              "        vertical-align: middle;\n",
              "    }\n",
              "\n",
              "    .dataframe tbody tr th {\n",
              "        vertical-align: top;\n",
              "    }\n",
              "\n",
              "    .dataframe thead th {\n",
              "        text-align: right;\n",
              "    }\n",
              "</style>\n",
              "<table border=\"1\" class=\"dataframe\">\n",
              "  <thead>\n",
              "    <tr style=\"text-align: right;\">\n",
              "      <th></th>\n",
              "      <th>Movie_Id</th>\n",
              "      <th>Média</th>\n",
              "      <th>title</th>\n",
              "    </tr>\n",
              "  </thead>\n",
              "  <tbody>\n",
              "    <tr>\n",
              "      <th>0</th>\n",
              "      <td>13</td>\n",
              "      <td>4.552000</td>\n",
              "      <td>(Lord of the Rings: The Return of the King: Ex...</td>\n",
              "    </tr>\n",
              "    <tr>\n",
              "      <th>1</th>\n",
              "      <td>5</td>\n",
              "      <td>3.919298</td>\n",
              "      <td>(The Rise and Fall of ECW, 2004)</td>\n",
              "    </tr>\n",
              "    <tr>\n",
              "      <th>2</th>\n",
              "      <td>18</td>\n",
              "      <td>3.784699</td>\n",
              "      <td>(Immortal Beloved, 1994)</td>\n",
              "    </tr>\n",
              "    <tr>\n",
              "      <th>3</th>\n",
              "      <td>1</td>\n",
              "      <td>3.749543</td>\n",
              "      <td>(Dinosaur Planet, 2003)</td>\n",
              "    </tr>\n",
              "    <tr>\n",
              "      <th>4</th>\n",
              "      <td>3</td>\n",
              "      <td>3.641153</td>\n",
              "      <td>(Character, 1997)</td>\n",
              "    </tr>\n",
              "  </tbody>\n",
              "</table>\n",
              "</div>\n",
              "      <button class=\"colab-df-convert\" onclick=\"convertToInteractive('df-a8637d85-c32b-4fc7-b721-b01754d335d4')\"\n",
              "              title=\"Convert this dataframe to an interactive table.\"\n",
              "              style=\"display:none;\">\n",
              "        \n",
              "  <svg xmlns=\"http://www.w3.org/2000/svg\" height=\"24px\"viewBox=\"0 0 24 24\"\n",
              "       width=\"24px\">\n",
              "    <path d=\"M0 0h24v24H0V0z\" fill=\"none\"/>\n",
              "    <path d=\"M18.56 5.44l.94 2.06.94-2.06 2.06-.94-2.06-.94-.94-2.06-.94 2.06-2.06.94zm-11 1L8.5 8.5l.94-2.06 2.06-.94-2.06-.94L8.5 2.5l-.94 2.06-2.06.94zm10 10l.94 2.06.94-2.06 2.06-.94-2.06-.94-.94-2.06-.94 2.06-2.06.94z\"/><path d=\"M17.41 7.96l-1.37-1.37c-.4-.4-.92-.59-1.43-.59-.52 0-1.04.2-1.43.59L10.3 9.45l-7.72 7.72c-.78.78-.78 2.05 0 2.83L4 21.41c.39.39.9.59 1.41.59.51 0 1.02-.2 1.41-.59l7.78-7.78 2.81-2.81c.8-.78.8-2.07 0-2.86zM5.41 20L4 18.59l7.72-7.72 1.47 1.35L5.41 20z\"/>\n",
              "  </svg>\n",
              "      </button>\n",
              "      \n",
              "  <style>\n",
              "    .colab-df-container {\n",
              "      display:flex;\n",
              "      flex-wrap:wrap;\n",
              "      gap: 12px;\n",
              "    }\n",
              "\n",
              "    .colab-df-convert {\n",
              "      background-color: #E8F0FE;\n",
              "      border: none;\n",
              "      border-radius: 50%;\n",
              "      cursor: pointer;\n",
              "      display: none;\n",
              "      fill: #1967D2;\n",
              "      height: 32px;\n",
              "      padding: 0 0 0 0;\n",
              "      width: 32px;\n",
              "    }\n",
              "\n",
              "    .colab-df-convert:hover {\n",
              "      background-color: #E2EBFA;\n",
              "      box-shadow: 0px 1px 2px rgba(60, 64, 67, 0.3), 0px 1px 3px 1px rgba(60, 64, 67, 0.15);\n",
              "      fill: #174EA6;\n",
              "    }\n",
              "\n",
              "    [theme=dark] .colab-df-convert {\n",
              "      background-color: #3B4455;\n",
              "      fill: #D2E3FC;\n",
              "    }\n",
              "\n",
              "    [theme=dark] .colab-df-convert:hover {\n",
              "      background-color: #434B5C;\n",
              "      box-shadow: 0px 1px 3px 1px rgba(0, 0, 0, 0.15);\n",
              "      filter: drop-shadow(0px 1px 2px rgba(0, 0, 0, 0.3));\n",
              "      fill: #FFFFFF;\n",
              "    }\n",
              "  </style>\n",
              "\n",
              "      <script>\n",
              "        const buttonEl =\n",
              "          document.querySelector('#df-a8637d85-c32b-4fc7-b721-b01754d335d4 button.colab-df-convert');\n",
              "        buttonEl.style.display =\n",
              "          google.colab.kernel.accessAllowed ? 'block' : 'none';\n",
              "\n",
              "        async function convertToInteractive(key) {\n",
              "          const element = document.querySelector('#df-a8637d85-c32b-4fc7-b721-b01754d335d4');\n",
              "          const dataTable =\n",
              "            await google.colab.kernel.invokeFunction('convertToInteractive',\n",
              "                                                     [key], {});\n",
              "          if (!dataTable) return;\n",
              "\n",
              "          const docLinkHtml = 'Like what you see? Visit the ' +\n",
              "            '<a target=\"_blank\" href=https://colab.research.google.com/notebooks/data_table.ipynb>data table notebook</a>'\n",
              "            + ' to learn more about interactive tables.';\n",
              "          element.innerHTML = '';\n",
              "          dataTable['output_type'] = 'display_data';\n",
              "          await google.colab.output.renderOutput(dataTable, element);\n",
              "          const docLink = document.createElement('div');\n",
              "          docLink.innerHTML = docLinkHtml;\n",
              "          element.appendChild(docLink);\n",
              "        }\n",
              "      </script>\n",
              "    </div>\n",
              "  </div>\n",
              "  "
            ]
          },
          "metadata": {},
          "execution_count": 270
        }
      ]
    },
    {
      "cell_type": "markdown",
      "source": [
        "## 3. Quais os 9 anos com menos lançamentos de filmes?\n"
      ],
      "metadata": {
        "id": "8t7oNwEnMlOB"
      }
    },
    {
      "cell_type": "code",
      "source": [
        "# Split na coluna de titulo para separar nome do filme e ano, foi necessario quebrar porque alguns filmes tem anos no nome\n",
        "# ex. 2090;(Cleopatra 2525: The Complete Series, 2000)\n",
        "# ex. 580;(THX 1138: Special Edition, 1971)\n",
        "\n",
        "split_cols = F.split(movies_df[\"title\"], ',')\n",
        "\n",
        "movies_df = movies_df.withColumn('Filme', split_cols.getItem(0)) \\\n",
        "    .withColumn('Ano', split_cols.getItem(1))\n",
        "\n",
        "movies_df.show()"
      ],
      "metadata": {
        "colab": {
          "base_uri": "https://localhost:8080/"
        },
        "id": "30cquMR5tTjy",
        "outputId": "ca9be801-40b0-4b2d-842a-5c0163347f09"
      },
      "execution_count": 278,
      "outputs": [
        {
          "output_type": "stream",
          "name": "stdout",
          "text": [
            "+--------+--------------------+----------+--------------------+------+\n",
            "|Movie_Id|               Title|Lancamento|               Filme|   Ano|\n",
            "+--------+--------------------+----------+--------------------+------+\n",
            "|       1|(Dinosaur Planet,...|      2003|    (Dinosaur Planet| 2003)|\n",
            "|       2|(Isle of Man TT 2...|      2004|(Isle of Man TT 2...| 2004)|\n",
            "|       3|   (Character, 1997)|      1997|          (Character| 1997)|\n",
            "|       4|(Paula Abdul's Ge...|      1994|(Paula Abdul's Ge...| 1994)|\n",
            "|       5|(The Rise and Fal...|      2004|(The Rise and Fal...| 2004)|\n",
            "|       6|        (Sick, 1997)|      1997|               (Sick| 1997)|\n",
            "|       7|       (8 Man, 1992)|      1992|              (8 Man| 1992)|\n",
            "|       8|(What the #$*! Do...|      2004|(What the #$*! Do...| 2004)|\n",
            "|       9|(Class of Nuke 'E...|      1991|(Class of Nuke 'E...| 1991)|\n",
            "|      10|     (Fighter, 2001)|      2001|            (Fighter| 2001)|\n",
            "|      11|(Full Frame: Docu...|      1999|(Full Frame: Docu...| 1999)|\n",
            "|      12|(My Favorite Brun...|      1947|(My Favorite Brun...| 1947)|\n",
            "|      13|(Lord of the Ring...|      2003|(Lord of the Ring...| 2003)|\n",
            "|      14|(Nature: Antarcti...|      1982| (Nature: Antarctica| 1982)|\n",
            "|      15|(Neil Diamond: Gr...|      1988|(Neil Diamond: Gr...| 1988)|\n",
            "|      16|   (Screamers, 1996)|      1996|          (Screamers| 1996)|\n",
            "|      17|   (7 Seconds, 2005)|      2005|          (7 Seconds| 2005)|\n",
            "|      18|(Immortal Beloved...|      1994|   (Immortal Beloved| 1994)|\n",
            "|      19|(By Dawn's Early ...|      2000|(By Dawn's Early ...| 2000)|\n",
            "|      20|(Seeta Aur Geeta,...|      1972|    (Seeta Aur Geeta| 1972)|\n",
            "+--------+--------------------+----------+--------------------+------+\n",
            "only showing top 20 rows\n",
            "\n"
          ]
        }
      ]
    },
    {
      "cell_type": "code",
      "source": [
        "regex = \"\\d{4}\"\n",
        "movies_df = movies_df.withColumn(\"date_col\", F.regexp_extract(movies_df[\"Ano\"], regex, 0)) \n",
        "movies_df = movies_df.withColumn(\"date_col\", F.to_date(movies_df[\"date_col\"])) \n",
        "movies_df = movies_df.withColumn(\"Lancamento\", F.year(movies_df[\"date_col\"]))\n",
        "movies_df = movies_df.drop('date_col', 'Filme', 'Ano')\n",
        "movies_df.show(5)\n",
        "\n",
        "movies_df.printSchema()"
      ],
      "metadata": {
        "colab": {
          "base_uri": "https://localhost:8080/"
        },
        "id": "Ea4NQsYRlwUK",
        "outputId": "0122a81f-6dea-4a44-917e-5a68c806b876"
      },
      "execution_count": 279,
      "outputs": [
        {
          "output_type": "stream",
          "name": "stdout",
          "text": [
            "+--------+--------------------+----------+\n",
            "|Movie_Id|               Title|Lancamento|\n",
            "+--------+--------------------+----------+\n",
            "|       1|(Dinosaur Planet,...|      2003|\n",
            "|       2|(Isle of Man TT 2...|      2004|\n",
            "|       3|   (Character, 1997)|      1997|\n",
            "|       4|(Paula Abdul's Ge...|      1994|\n",
            "|       5|(The Rise and Fal...|      2004|\n",
            "+--------+--------------------+----------+\n",
            "only showing top 5 rows\n",
            "\n",
            "root\n",
            " |-- Movie_Id: integer (nullable = true)\n",
            " |-- Title: string (nullable = true)\n",
            " |-- Lancamento: integer (nullable = true)\n",
            "\n"
          ]
        }
      ]
    },
    {
      "cell_type": "code",
      "source": [
        "print('Anos com menos lancamentos:')\n",
        "movies_df\\\n",
        "  .groupby('Lancamento')\\\n",
        "  .count()\\\n",
        "  .orderBy(F.asc('count'))\\\n",
        "  .show(9)"
      ],
      "metadata": {
        "colab": {
          "base_uri": "https://localhost:8080/"
        },
        "id": "3BY6Jpyhsimf",
        "outputId": "a59fb40a-baad-4e6d-8c04-570984f2c706"
      },
      "execution_count": 280,
      "outputs": [
        {
          "output_type": "stream",
          "name": "stdout",
          "text": [
            "Anos com menos lancamentos:\n",
            "+----------+-----+\n",
            "|Lancamento|count|\n",
            "+----------+-----+\n",
            "|      1926|    1|\n",
            "|      1922|    1|\n",
            "|      1917|    1|\n",
            "|      1915|    1|\n",
            "|      1924|    2|\n",
            "|      1918|    2|\n",
            "|      1916|    2|\n",
            "|      1931|    2|\n",
            "|      1929|    2|\n",
            "+----------+-----+\n",
            "only showing top 9 rows\n",
            "\n"
          ]
        }
      ]
    },
    {
      "cell_type": "markdown",
      "source": [
        "## 4. Quantos filmes que possuem avaliação maior ou igual a 4.7, considerando apenas os filmes avaliados na última data de avaliação do dataset?\n"
      ],
      "metadata": {
        "id": "rnlxDt69Mk9Y"
      }
    },
    {
      "cell_type": "markdown",
      "source": [
        "## 5. Dos filmes encontrados na questão anterior, quais são os 10 filmes com as piores notas e quais as notas?\n"
      ],
      "metadata": {
        "id": "k3FEyeFWMky9"
      }
    },
    {
      "cell_type": "markdown",
      "source": [
        "## 6. Quais os id's dos 5 customers que mais avaliaram filmes e quantas avaliações cada um fez?"
      ],
      "metadata": {
        "id": "DxA5jg8ZMknw"
      }
    }
  ]
}
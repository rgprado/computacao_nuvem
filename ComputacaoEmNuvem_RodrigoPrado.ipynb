{
  "nbformat": 4,
  "nbformat_minor": 0,
  "metadata": {
    "colab": {
      "provenance": [],
      "authorship_tag": "ABX9TyNaZBiSvJlqD0436o+BLCw8",
      "include_colab_link": true
    },
    "kernelspec": {
      "name": "python3",
      "display_name": "Python 3"
    },
    "language_info": {
      "name": "python"
    }
  },
  "cells": [
    {
      "cell_type": "markdown",
      "metadata": {
        "id": "view-in-github",
        "colab_type": "text"
      },
      "source": [
        "<a href=\"https://colab.research.google.com/github/rgprado/computacao_nuvem/blob/main/ComputacaoEmNuvem_RodrigoPrado.ipynb\" target=\"_parent\"><img src=\"https://colab.research.google.com/assets/colab-badge.svg\" alt=\"Open In Colab\"/></a>"
      ]
    },
    {
      "cell_type": "markdown",
      "source": [
        "# Sobre os dados\n",
        "\n",
        "O arquivo CSV 'movies' contém o identificador e o nome do filme. O arquivo 'customers_rating' contém informações sobre ID do cliente, nota dada ao filme, qual a data da avaliação e o ID do filme.\n",
        "\n",
        "**Descrição das colunas:**\n",
        "\n",
        "Base 1:  \n",
        "ID do filme  \n",
        "título e ano de lançamento\n",
        "\n",
        "Base 2:  \n",
        "Cust_Id: ID do customer que fez a avaliação  \n",
        "Rating: avaliação (nota)  \n",
        "Date: data da avaliação  \n",
        "Movie_Id: ID do filme  \n",
        "\n",
        "\n",
        "**Amostra:**  \n",
        "**movies:**  \n",
        "1;(Dinosaur Planet, 2003)  \n",
        "2;(Isle of Man TT 2004 Review, 2004)  \n",
        "3;(Character, 1997)\n",
        "\n",
        "\n",
        "**customers_rating:**  \n",
        "1488844;3.0;2005-09-06;1  \n",
        "822109;5.0;2005-05-13;1  \n",
        "885013;4.0;2005-10-19;1\n",
        "\n",
        "**Nome do arquivo CSV:**  \n",
        "data/movies.csv  \n",
        "data/customers_rating.csv\n",
        "\n",
        "## Sobre as questões\n",
        "Base1 - Movies: https://drive.google.com/file/d/1gLsCjaMrL91ECdThq58cZAzB9tPxG18g/view?usp=sharing\n",
        "\n",
        "Base2 - Ratings: https://drive.google.com/file/d/1C_T1w8fc7Oa8MeTo4LMTEcv90IfEOS-6/view?usp=sharing"
      ],
      "metadata": {
        "id": "h5F2H_dk86lf"
      }
    },
    {
      "cell_type": "markdown",
      "source": [
        "## Instalação das Libs e imports"
      ],
      "metadata": {
        "id": "EYoxvKInMC-X"
      }
    },
    {
      "cell_type": "code",
      "source": [
        "!wget -q https://downloads.apache.org/spark/spark-3.0.1/spark-3.0.1-bin-hadoop2.7.tgz\n",
        "!tar xf spark-3.0.1-bin-hadoop2.7.tgz\n",
        "!pip install -q findspark\n",
        "!pip install pyspark"
      ],
      "metadata": {
        "colab": {
          "base_uri": "https://localhost:8080/"
        },
        "id": "UjviyGt3D_iM",
        "outputId": "1d0a2f00-953a-4373-be6a-6120cd0bd826"
      },
      "execution_count": 1,
      "outputs": [
        {
          "output_type": "stream",
          "name": "stdout",
          "text": [
            "tar: spark-3.0.1-bin-hadoop2.7.tgz: Cannot open: No such file or directory\n",
            "tar: Error is not recoverable: exiting now\n",
            "Looking in indexes: https://pypi.org/simple, https://us-python.pkg.dev/colab-wheels/public/simple/\n",
            "Collecting pyspark\n",
            "  Downloading pyspark-3.4.0.tar.gz (310.8 MB)\n",
            "\u001b[2K     \u001b[90m━━━━━━━━━━━━━━━━━━━━━━━━━━━━━━━━━━━━━━━\u001b[0m \u001b[32m310.8/310.8 MB\u001b[0m \u001b[31m4.0 MB/s\u001b[0m eta \u001b[36m0:00:00\u001b[0m\n",
            "\u001b[?25h  Preparing metadata (setup.py) ... \u001b[?25l\u001b[?25hdone\n",
            "Requirement already satisfied: py4j==0.10.9.7 in /usr/local/lib/python3.10/dist-packages (from pyspark) (0.10.9.7)\n",
            "Building wheels for collected packages: pyspark\n",
            "  Building wheel for pyspark (setup.py) ... \u001b[?25l\u001b[?25hdone\n",
            "  Created wheel for pyspark: filename=pyspark-3.4.0-py2.py3-none-any.whl size=311317130 sha256=8d99190622427aec0c389f433ad843dd18e7912f11952b91d4ea02278df88dc9\n",
            "  Stored in directory: /root/.cache/pip/wheels/7b/1b/4b/3363a1d04368e7ff0d408e57ff57966fcdf00583774e761327\n",
            "Successfully built pyspark\n",
            "Installing collected packages: pyspark\n",
            "Successfully installed pyspark-3.4.0\n"
          ]
        }
      ]
    },
    {
      "cell_type": "code",
      "execution_count": 2,
      "metadata": {
        "id": "WfO593uu84TD"
      },
      "outputs": [],
      "source": [
        "import os\n",
        "\n",
        "os.environ['PYSPARK_SUBMIT_ARGS'] = '\\\n",
        "    --driver-memory 4G \\\n",
        "    --executor-memory 4G \\\n",
        "    pyspark-shell'\n",
        "\n",
        "from pyspark.sql import SparkSession\n",
        "from pyspark.sql import functions as F\n",
        "from datetime import datetime"
      ]
    },
    {
      "cell_type": "code",
      "source": [
        "spark = SparkSession.builder\\\n",
        "    .master(\"local[*]\")\\\n",
        "    .getOrCreate()\n",
        "spark"
      ],
      "metadata": {
        "colab": {
          "base_uri": "https://localhost:8080/",
          "height": 222
        },
        "id": "cIGPhGKnEUzJ",
        "outputId": "53897d3e-4484-4f7b-b566-65c37b6fc4f6"
      },
      "execution_count": 3,
      "outputs": [
        {
          "output_type": "execute_result",
          "data": {
            "text/plain": [
              "<pyspark.sql.session.SparkSession at 0x7fb3f4383370>"
            ],
            "text/html": [
              "\n",
              "            <div>\n",
              "                <p><b>SparkSession - in-memory</b></p>\n",
              "                \n",
              "        <div>\n",
              "            <p><b>SparkContext</b></p>\n",
              "\n",
              "            <p><a href=\"http://34a6039251e4:4040\">Spark UI</a></p>\n",
              "\n",
              "            <dl>\n",
              "              <dt>Version</dt>\n",
              "                <dd><code>v3.4.0</code></dd>\n",
              "              <dt>Master</dt>\n",
              "                <dd><code>local[*]</code></dd>\n",
              "              <dt>AppName</dt>\n",
              "                <dd><code>pyspark-shell</code></dd>\n",
              "            </dl>\n",
              "        </div>\n",
              "        \n",
              "            </div>\n",
              "        "
            ]
          },
          "metadata": {},
          "execution_count": 3
        }
      ]
    },
    {
      "cell_type": "markdown",
      "source": [
        "## Leitura dos arquivos csv"
      ],
      "metadata": {
        "id": "AOeyFoNqMLGm"
      }
    },
    {
      "cell_type": "code",
      "source": [
        "movies_df = spark.read.csv(f'data/movies.csv', header=False, inferSchema=True, sep=';').toDF('Movie_Id', 'Title')\n",
        "movies_df.show(5)"
      ],
      "metadata": {
        "colab": {
          "base_uri": "https://localhost:8080/"
        },
        "id": "pxsxNvE9Ip5V",
        "outputId": "e7c58252-f63a-44c9-aeaf-c4089ed50d32"
      },
      "execution_count": 4,
      "outputs": [
        {
          "output_type": "stream",
          "name": "stdout",
          "text": [
            "+--------+--------------------+\n",
            "|Movie_Id|               Title|\n",
            "+--------+--------------------+\n",
            "|       1|(Dinosaur Planet,...|\n",
            "|       2|(Isle of Man TT 2...|\n",
            "|       3|   (Character, 1997)|\n",
            "|       4|(Paula Abdul's Ge...|\n",
            "|       5|(The Rise and Fal...|\n",
            "+--------+--------------------+\n",
            "only showing top 5 rows\n",
            "\n"
          ]
        }
      ]
    },
    {
      "cell_type": "code",
      "source": [
        "movies_df.printSchema()"
      ],
      "metadata": {
        "colab": {
          "base_uri": "https://localhost:8080/"
        },
        "id": "bbTfim0bh8Vx",
        "outputId": "1676204a-1322-42f8-ed2d-2b4a33e9dc9f"
      },
      "execution_count": 5,
      "outputs": [
        {
          "output_type": "stream",
          "name": "stdout",
          "text": [
            "root\n",
            " |-- Movie_Id: integer (nullable = true)\n",
            " |-- Title: string (nullable = true)\n",
            "\n"
          ]
        }
      ]
    },
    {
      "cell_type": "code",
      "source": [
        "ratings_df = spark.read.csv(f'data/customers_rating.csv', header=True, inferSchema=True, sep=';')\n",
        "ratings_df = ratings_df.na.drop(\"any\")\n",
        "ratings_df.show(5)"
      ],
      "metadata": {
        "colab": {
          "base_uri": "https://localhost:8080/"
        },
        "id": "QBP16eJ7G8iY",
        "outputId": "70518345-cd19-424a-fab1-c50203fe012e"
      },
      "execution_count": 7,
      "outputs": [
        {
          "output_type": "stream",
          "name": "stdout",
          "text": [
            "+-------+------+----------+--------+\n",
            "|Cust_Id|Rating|      Date|Movie_Id|\n",
            "+-------+------+----------+--------+\n",
            "|1488844|   3.0|2005-09-06|       1|\n",
            "| 822109|   5.0|2005-05-13|       1|\n",
            "| 885013|   4.0|2005-10-19|       1|\n",
            "|  30878|   4.0|2005-12-26|       1|\n",
            "| 823519|   3.0|2004-05-03|       1|\n",
            "+-------+------+----------+--------+\n",
            "only showing top 5 rows\n",
            "\n"
          ]
        }
      ]
    },
    {
      "cell_type": "code",
      "source": [
        "ratings_df.printSchema()"
      ],
      "metadata": {
        "colab": {
          "base_uri": "https://localhost:8080/"
        },
        "id": "njZuyzT7Y2N3",
        "outputId": "6fb06efb-9afb-427b-8f8d-70ec41748b03"
      },
      "execution_count": 8,
      "outputs": [
        {
          "output_type": "stream",
          "name": "stdout",
          "text": [
            "root\n",
            " |-- Cust_Id: integer (nullable = true)\n",
            " |-- Rating: double (nullable = true)\n",
            " |-- Date: date (nullable = true)\n",
            " |-- Movie_Id: integer (nullable = true)\n",
            "\n"
          ]
        }
      ]
    },
    {
      "cell_type": "code",
      "source": [
        "ratings_df.count()"
      ],
      "metadata": {
        "colab": {
          "base_uri": "https://localhost:8080/"
        },
        "id": "rRO78q8hR48S",
        "outputId": "e6795c99-23d2-46fd-f9e9-01e01bd1702a"
      },
      "execution_count": 9,
      "outputs": [
        {
          "output_type": "execute_result",
          "data": {
            "text/plain": [
              "2262697"
            ]
          },
          "metadata": {},
          "execution_count": 9
        }
      ]
    },
    {
      "cell_type": "markdown",
      "source": [
        "# Exercícios"
      ],
      "metadata": {
        "id": "xPFNVwOrMR3f"
      }
    },
    {
      "cell_type": "markdown",
      "source": [
        "## 1. Quantos filmes estão disponíveis no dataset?\n"
      ],
      "metadata": {
        "id": "rf2we4uSMbHR"
      }
    },
    {
      "cell_type": "code",
      "source": [
        "print(\"Total de filmes:\", movies_df.distinct().count())"
      ],
      "metadata": {
        "colab": {
          "base_uri": "https://localhost:8080/"
        },
        "id": "k7KX04UQNe1p",
        "outputId": "d3c0045b-0278-4e33-f155-a0b9b7b909f4"
      },
      "execution_count": 10,
      "outputs": [
        {
          "output_type": "stream",
          "name": "stdout",
          "text": [
            "Total de filmes: 4499\n"
          ]
        }
      ]
    },
    {
      "cell_type": "markdown",
      "source": [
        "## 2. Qual é o nome dos 5 filmes com melhor média de avaliação?\n"
      ],
      "metadata": {
        "id": "xZrUlWUTMa-r"
      }
    },
    {
      "cell_type": "code",
      "source": [
        "%%time\n",
        "df = ratings_df.groupby('Movie_Id')\\\n",
        "    .mean()\\\n",
        "    .select(['Movie_Id','avg(Rating)' ])\\\n",
        "    .withColumnRenamed('avg(Rating)', 'Média')\\\n",
        "    .orderBy(F.desc('Média'))\\\n",
        "    .limit(10)\\\n",
        "    .cache() # Para salvar o df computado na memória RAM. Sai imediatamente.\n",
        "df.show(5)"
      ],
      "metadata": {
        "colab": {
          "base_uri": "https://localhost:8080/"
        },
        "id": "o7dmTSb2PQSl",
        "outputId": "4c8317c0-a393-4801-b5e6-982dba088d5a"
      },
      "execution_count": 11,
      "outputs": [
        {
          "output_type": "stream",
          "name": "stdout",
          "text": [
            "+--------+------------------+\n",
            "|Movie_Id|             Média|\n",
            "+--------+------------------+\n",
            "|      13|             4.552|\n",
            "|     316| 4.301984126984127|\n",
            "|     270| 4.289368944031183|\n",
            "|      85|4.2518796992481205|\n",
            "|     223|4.2111917098445595|\n",
            "+--------+------------------+\n",
            "only showing top 5 rows\n",
            "\n",
            "CPU times: user 100 ms, sys: 10.9 ms, total: 111 ms\n",
            "Wall time: 13.1 s\n"
          ]
        }
      ]
    },
    {
      "cell_type": "code",
      "source": [
        "print('Filmes com melhores avaliações')\n",
        "df.toPandas()\\\n",
        "    .merge(\n",
        "        movies_df.select('Movie_Id', 'title').toPandas(), \n",
        "        on='Movie_Id', \n",
        "        how='inner'\n",
        "    ).head(5)\n"
      ],
      "metadata": {
        "colab": {
          "base_uri": "https://localhost:8080/",
          "height": 225
        },
        "id": "6ThEbe0UU3AF",
        "outputId": "c56e1cf9-89d2-47f6-9391-c7e22d9729d6"
      },
      "execution_count": 12,
      "outputs": [
        {
          "output_type": "stream",
          "name": "stdout",
          "text": [
            "Filmes com melhores avaliações\n"
          ]
        },
        {
          "output_type": "execute_result",
          "data": {
            "text/plain": [
              "   Movie_Id     Média                                              title\n",
              "0        13  4.552000  (Lord of the Rings: The Return of the King: Ex...\n",
              "1       316  4.301984  (Futurama: Monster Robot Maniac Fun Collection...\n",
              "2       270  4.289369                 (Sex and the City: Season 4, 2001)\n",
              "3        85  4.251880                                 (Elfen Lied, 2005)\n",
              "4       223  4.211192                 (Chappelle's Show: Season 1, 2003)"
            ],
            "text/html": [
              "\n",
              "  <div id=\"df-b329af6b-8420-412b-9b57-91891202b0e4\">\n",
              "    <div class=\"colab-df-container\">\n",
              "      <div>\n",
              "<style scoped>\n",
              "    .dataframe tbody tr th:only-of-type {\n",
              "        vertical-align: middle;\n",
              "    }\n",
              "\n",
              "    .dataframe tbody tr th {\n",
              "        vertical-align: top;\n",
              "    }\n",
              "\n",
              "    .dataframe thead th {\n",
              "        text-align: right;\n",
              "    }\n",
              "</style>\n",
              "<table border=\"1\" class=\"dataframe\">\n",
              "  <thead>\n",
              "    <tr style=\"text-align: right;\">\n",
              "      <th></th>\n",
              "      <th>Movie_Id</th>\n",
              "      <th>Média</th>\n",
              "      <th>title</th>\n",
              "    </tr>\n",
              "  </thead>\n",
              "  <tbody>\n",
              "    <tr>\n",
              "      <th>0</th>\n",
              "      <td>13</td>\n",
              "      <td>4.552000</td>\n",
              "      <td>(Lord of the Rings: The Return of the King: Ex...</td>\n",
              "    </tr>\n",
              "    <tr>\n",
              "      <th>1</th>\n",
              "      <td>316</td>\n",
              "      <td>4.301984</td>\n",
              "      <td>(Futurama: Monster Robot Maniac Fun Collection...</td>\n",
              "    </tr>\n",
              "    <tr>\n",
              "      <th>2</th>\n",
              "      <td>270</td>\n",
              "      <td>4.289369</td>\n",
              "      <td>(Sex and the City: Season 4, 2001)</td>\n",
              "    </tr>\n",
              "    <tr>\n",
              "      <th>3</th>\n",
              "      <td>85</td>\n",
              "      <td>4.251880</td>\n",
              "      <td>(Elfen Lied, 2005)</td>\n",
              "    </tr>\n",
              "    <tr>\n",
              "      <th>4</th>\n",
              "      <td>223</td>\n",
              "      <td>4.211192</td>\n",
              "      <td>(Chappelle's Show: Season 1, 2003)</td>\n",
              "    </tr>\n",
              "  </tbody>\n",
              "</table>\n",
              "</div>\n",
              "      <button class=\"colab-df-convert\" onclick=\"convertToInteractive('df-b329af6b-8420-412b-9b57-91891202b0e4')\"\n",
              "              title=\"Convert this dataframe to an interactive table.\"\n",
              "              style=\"display:none;\">\n",
              "        \n",
              "  <svg xmlns=\"http://www.w3.org/2000/svg\" height=\"24px\"viewBox=\"0 0 24 24\"\n",
              "       width=\"24px\">\n",
              "    <path d=\"M0 0h24v24H0V0z\" fill=\"none\"/>\n",
              "    <path d=\"M18.56 5.44l.94 2.06.94-2.06 2.06-.94-2.06-.94-.94-2.06-.94 2.06-2.06.94zm-11 1L8.5 8.5l.94-2.06 2.06-.94-2.06-.94L8.5 2.5l-.94 2.06-2.06.94zm10 10l.94 2.06.94-2.06 2.06-.94-2.06-.94-.94-2.06-.94 2.06-2.06.94z\"/><path d=\"M17.41 7.96l-1.37-1.37c-.4-.4-.92-.59-1.43-.59-.52 0-1.04.2-1.43.59L10.3 9.45l-7.72 7.72c-.78.78-.78 2.05 0 2.83L4 21.41c.39.39.9.59 1.41.59.51 0 1.02-.2 1.41-.59l7.78-7.78 2.81-2.81c.8-.78.8-2.07 0-2.86zM5.41 20L4 18.59l7.72-7.72 1.47 1.35L5.41 20z\"/>\n",
              "  </svg>\n",
              "      </button>\n",
              "      \n",
              "  <style>\n",
              "    .colab-df-container {\n",
              "      display:flex;\n",
              "      flex-wrap:wrap;\n",
              "      gap: 12px;\n",
              "    }\n",
              "\n",
              "    .colab-df-convert {\n",
              "      background-color: #E8F0FE;\n",
              "      border: none;\n",
              "      border-radius: 50%;\n",
              "      cursor: pointer;\n",
              "      display: none;\n",
              "      fill: #1967D2;\n",
              "      height: 32px;\n",
              "      padding: 0 0 0 0;\n",
              "      width: 32px;\n",
              "    }\n",
              "\n",
              "    .colab-df-convert:hover {\n",
              "      background-color: #E2EBFA;\n",
              "      box-shadow: 0px 1px 2px rgba(60, 64, 67, 0.3), 0px 1px 3px 1px rgba(60, 64, 67, 0.15);\n",
              "      fill: #174EA6;\n",
              "    }\n",
              "\n",
              "    [theme=dark] .colab-df-convert {\n",
              "      background-color: #3B4455;\n",
              "      fill: #D2E3FC;\n",
              "    }\n",
              "\n",
              "    [theme=dark] .colab-df-convert:hover {\n",
              "      background-color: #434B5C;\n",
              "      box-shadow: 0px 1px 3px 1px rgba(0, 0, 0, 0.15);\n",
              "      filter: drop-shadow(0px 1px 2px rgba(0, 0, 0, 0.3));\n",
              "      fill: #FFFFFF;\n",
              "    }\n",
              "  </style>\n",
              "\n",
              "      <script>\n",
              "        const buttonEl =\n",
              "          document.querySelector('#df-b329af6b-8420-412b-9b57-91891202b0e4 button.colab-df-convert');\n",
              "        buttonEl.style.display =\n",
              "          google.colab.kernel.accessAllowed ? 'block' : 'none';\n",
              "\n",
              "        async function convertToInteractive(key) {\n",
              "          const element = document.querySelector('#df-b329af6b-8420-412b-9b57-91891202b0e4');\n",
              "          const dataTable =\n",
              "            await google.colab.kernel.invokeFunction('convertToInteractive',\n",
              "                                                     [key], {});\n",
              "          if (!dataTable) return;\n",
              "\n",
              "          const docLinkHtml = 'Like what you see? Visit the ' +\n",
              "            '<a target=\"_blank\" href=https://colab.research.google.com/notebooks/data_table.ipynb>data table notebook</a>'\n",
              "            + ' to learn more about interactive tables.';\n",
              "          element.innerHTML = '';\n",
              "          dataTable['output_type'] = 'display_data';\n",
              "          await google.colab.output.renderOutput(dataTable, element);\n",
              "          const docLink = document.createElement('div');\n",
              "          docLink.innerHTML = docLinkHtml;\n",
              "          element.appendChild(docLink);\n",
              "        }\n",
              "      </script>\n",
              "    </div>\n",
              "  </div>\n",
              "  "
            ]
          },
          "metadata": {},
          "execution_count": 12
        }
      ]
    },
    {
      "cell_type": "markdown",
      "source": [
        "## 3. Quais os 9 anos com menos lançamentos de filmes?\n"
      ],
      "metadata": {
        "id": "8t7oNwEnMlOB"
      }
    },
    {
      "cell_type": "code",
      "source": [
        "# Split na coluna de titulo para separar nome do filme e ano, foi necessario quebrar porque alguns filmes tem anos no nome\n",
        "# ex. 2090;(Cleopatra 2525: The Complete Series, 2000)\n",
        "# ex. 580;(THX 1138: Special Edition, 1971)\n",
        "\n",
        "split_cols = F.split(movies_df[\"title\"], ',')\n",
        "\n",
        "movies_df = movies_df.withColumn('Filme', split_cols.getItem(0)) \\\n",
        "    .withColumn('Ano', split_cols.getItem(1))\n",
        "\n",
        "movies_df.show()"
      ],
      "metadata": {
        "colab": {
          "base_uri": "https://localhost:8080/"
        },
        "id": "30cquMR5tTjy",
        "outputId": "3286adba-0321-4030-8edb-ea215256987e"
      },
      "execution_count": 13,
      "outputs": [
        {
          "output_type": "stream",
          "name": "stdout",
          "text": [
            "+--------+--------------------+--------------------+------+\n",
            "|Movie_Id|               Title|               Filme|   Ano|\n",
            "+--------+--------------------+--------------------+------+\n",
            "|       1|(Dinosaur Planet,...|    (Dinosaur Planet| 2003)|\n",
            "|       2|(Isle of Man TT 2...|(Isle of Man TT 2...| 2004)|\n",
            "|       3|   (Character, 1997)|          (Character| 1997)|\n",
            "|       4|(Paula Abdul's Ge...|(Paula Abdul's Ge...| 1994)|\n",
            "|       5|(The Rise and Fal...|(The Rise and Fal...| 2004)|\n",
            "|       6|        (Sick, 1997)|               (Sick| 1997)|\n",
            "|       7|       (8 Man, 1992)|              (8 Man| 1992)|\n",
            "|       8|(What the #$*! Do...|(What the #$*! Do...| 2004)|\n",
            "|       9|(Class of Nuke 'E...|(Class of Nuke 'E...| 1991)|\n",
            "|      10|     (Fighter, 2001)|            (Fighter| 2001)|\n",
            "|      11|(Full Frame: Docu...|(Full Frame: Docu...| 1999)|\n",
            "|      12|(My Favorite Brun...|(My Favorite Brun...| 1947)|\n",
            "|      13|(Lord of the Ring...|(Lord of the Ring...| 2003)|\n",
            "|      14|(Nature: Antarcti...| (Nature: Antarctica| 1982)|\n",
            "|      15|(Neil Diamond: Gr...|(Neil Diamond: Gr...| 1988)|\n",
            "|      16|   (Screamers, 1996)|          (Screamers| 1996)|\n",
            "|      17|   (7 Seconds, 2005)|          (7 Seconds| 2005)|\n",
            "|      18|(Immortal Beloved...|   (Immortal Beloved| 1994)|\n",
            "|      19|(By Dawn's Early ...|(By Dawn's Early ...| 2000)|\n",
            "|      20|(Seeta Aur Geeta,...|    (Seeta Aur Geeta| 1972)|\n",
            "+--------+--------------------+--------------------+------+\n",
            "only showing top 20 rows\n",
            "\n"
          ]
        }
      ]
    },
    {
      "cell_type": "code",
      "source": [
        "regex = \"\\d{4}\"\n",
        "movies_df = movies_df.withColumn(\"date_col\", F.regexp_extract(movies_df[\"Ano\"], regex, 0)) \n",
        "movies_df = movies_df.withColumn(\"date_col\", F.to_date(movies_df[\"date_col\"])) \n",
        "movies_df = movies_df.withColumn(\"Lancamento\", F.year(movies_df[\"date_col\"]))\n",
        "movies_df = movies_df.drop('date_col', 'Filme', 'Ano')\n",
        "movies_df.show(5)\n",
        "\n",
        "movies_df.printSchema()"
      ],
      "metadata": {
        "colab": {
          "base_uri": "https://localhost:8080/"
        },
        "id": "Ea4NQsYRlwUK",
        "outputId": "30a10d12-4ff6-49df-9963-8b21bfe62885"
      },
      "execution_count": 14,
      "outputs": [
        {
          "output_type": "stream",
          "name": "stdout",
          "text": [
            "+--------+--------------------+----------+\n",
            "|Movie_Id|               Title|Lancamento|\n",
            "+--------+--------------------+----------+\n",
            "|       1|(Dinosaur Planet,...|      2003|\n",
            "|       2|(Isle of Man TT 2...|      2004|\n",
            "|       3|   (Character, 1997)|      1997|\n",
            "|       4|(Paula Abdul's Ge...|      1994|\n",
            "|       5|(The Rise and Fal...|      2004|\n",
            "+--------+--------------------+----------+\n",
            "only showing top 5 rows\n",
            "\n",
            "root\n",
            " |-- Movie_Id: integer (nullable = true)\n",
            " |-- Title: string (nullable = true)\n",
            " |-- Lancamento: integer (nullable = true)\n",
            "\n"
          ]
        }
      ]
    },
    {
      "cell_type": "code",
      "source": [
        "print('Anos com menos lancamentos:')\n",
        "movies_df\\\n",
        "  .groupby('Lancamento')\\\n",
        "  .count()\\\n",
        "  .orderBy(F.asc('count'))\\\n",
        "  .show(9)"
      ],
      "metadata": {
        "colab": {
          "base_uri": "https://localhost:8080/"
        },
        "id": "3BY6Jpyhsimf",
        "outputId": "b98c4ef6-de1e-4db4-c7c6-906d3ab6fccb"
      },
      "execution_count": 15,
      "outputs": [
        {
          "output_type": "stream",
          "name": "stdout",
          "text": [
            "Anos com menos lancamentos:\n",
            "+----------+-----+\n",
            "|Lancamento|count|\n",
            "+----------+-----+\n",
            "|      1926|    1|\n",
            "|      1922|    1|\n",
            "|      1917|    1|\n",
            "|      1915|    1|\n",
            "|      1924|    2|\n",
            "|      1918|    2|\n",
            "|      1916|    2|\n",
            "|      1931|    2|\n",
            "|      1929|    2|\n",
            "+----------+-----+\n",
            "only showing top 9 rows\n",
            "\n"
          ]
        }
      ]
    },
    {
      "cell_type": "markdown",
      "source": [
        "## 4. Quantos filmes que possuem avaliação maior ou igual a 4.7, considerando apenas os filmes avaliados na última data de avaliação do dataset?\n"
      ],
      "metadata": {
        "id": "rnlxDt69Mk9Y"
      }
    },
    {
      "cell_type": "code",
      "source": [
        "datas_recentes = ratings_df.groupBy(\"Movie_Id\").agg(F.max(\"Date\").alias(\"ultima_data\"))\n",
        "datas_recentes = datas_recentes.withColumnRenamed(\"Movie_Id\", \"Mov_Id\")\n",
        "\n",
        "ultimas_avaliacoes = ratings_df.join(datas_recentes, (ratings_df[\"Movie_Id\"] == datas_recentes[\"Mov_Id\"]) & (ratings_df[\"Date\"] == datas_recentes[\"ultima_data\"]))\n",
        "\n",
        "melhores_filmes = ultimas_avaliacoes.filter(ultimas_avaliacoes[\"Rating\"] >= 4.7)\n",
        "\n",
        "count_filmes = melhores_filmes.count()\n",
        "\n",
        "print(\"Número de filmes com avaliação maior ou igual a 4.7: \", count_filmes)\n"
      ],
      "metadata": {
        "colab": {
          "base_uri": "https://localhost:8080/"
        },
        "id": "fw4ZPSjFqKTY",
        "outputId": "3c32101c-1b89-47d1-83e1-2a8606bc1c97"
      },
      "execution_count": 32,
      "outputs": [
        {
          "output_type": "stream",
          "name": "stdout",
          "text": [
            "Número de filmes com avaliação maior ou igual a 4.7:  178\n"
          ]
        }
      ]
    },
    {
      "cell_type": "markdown",
      "source": [
        "## 5. Dos filmes encontrados na questão anterior, quais são os 10 filmes com as piores notas e quais as notas?\n"
      ],
      "metadata": {
        "id": "k3FEyeFWMky9"
      }
    },
    {
      "cell_type": "code",
      "source": [
        "# Quando o filtro da questao 4 foi aplicado, so teve resultados com nota 5, entao, todos os 178 resultados esta com nota 5\n",
        "asc_melhores = melhores_filmes\\\n",
        "  .select('Movie_Id', 'Rating')\\\n",
        "  .orderBy(F.asc('Rating'))\n",
        "\n",
        "print('Os 10 filmes com as piores notas e quais as notas:')\n",
        "asc_melhores.toPandas()\\\n",
        "    .merge(\n",
        "        movies_df.select('Movie_Id', 'title').toPandas(), \n",
        "        on='Movie_Id', \n",
        "        how='inner'\n",
        "    ).head(10)"
      ],
      "metadata": {
        "colab": {
          "base_uri": "https://localhost:8080/",
          "height": 381
        },
        "id": "lu4L51k9siyM",
        "outputId": "05d9e966-b9eb-47a5-abe9-b6a591377e78"
      },
      "execution_count": 60,
      "outputs": [
        {
          "output_type": "stream",
          "name": "stdout",
          "text": [
            "Filmes com melhores avaliações\n"
          ]
        },
        {
          "output_type": "execute_result",
          "data": {
            "text/plain": [
              "   Movie_Id  Rating                                              title\n",
              "0        56     5.0                                  (Carandiru, 2004)\n",
              "1       206     5.0  (Unconstitutional: The War on Our Civil Libert...\n",
              "2       118     5.0                 (Rambo: First Blood Part II, 1985)\n",
              "3        30     5.0                     (Something's Gotta Give, 2003)\n",
              "4        30     5.0                     (Something's Gotta Give, 2003)\n",
              "5        51     5.0  (Jonah: A VeggieTales Movie: Bonus Material, 2...\n",
              "6       103     5.0                  (Sanford and Son: Season 6, 1976)\n",
              "7       165     5.0    (Richard Pryor: Live on the Sunset Strip, 1982)\n",
              "8       243     5.0                             (Pressure Point, 1962)\n",
              "9       159     5.0                       (Gentlemen of Fortune, 1971)"
            ],
            "text/html": [
              "\n",
              "  <div id=\"df-246b500c-3130-4f07-9c7c-39023d8159f6\">\n",
              "    <div class=\"colab-df-container\">\n",
              "      <div>\n",
              "<style scoped>\n",
              "    .dataframe tbody tr th:only-of-type {\n",
              "        vertical-align: middle;\n",
              "    }\n",
              "\n",
              "    .dataframe tbody tr th {\n",
              "        vertical-align: top;\n",
              "    }\n",
              "\n",
              "    .dataframe thead th {\n",
              "        text-align: right;\n",
              "    }\n",
              "</style>\n",
              "<table border=\"1\" class=\"dataframe\">\n",
              "  <thead>\n",
              "    <tr style=\"text-align: right;\">\n",
              "      <th></th>\n",
              "      <th>Movie_Id</th>\n",
              "      <th>Rating</th>\n",
              "      <th>title</th>\n",
              "    </tr>\n",
              "  </thead>\n",
              "  <tbody>\n",
              "    <tr>\n",
              "      <th>0</th>\n",
              "      <td>56</td>\n",
              "      <td>5.0</td>\n",
              "      <td>(Carandiru, 2004)</td>\n",
              "    </tr>\n",
              "    <tr>\n",
              "      <th>1</th>\n",
              "      <td>206</td>\n",
              "      <td>5.0</td>\n",
              "      <td>(Unconstitutional: The War on Our Civil Libert...</td>\n",
              "    </tr>\n",
              "    <tr>\n",
              "      <th>2</th>\n",
              "      <td>118</td>\n",
              "      <td>5.0</td>\n",
              "      <td>(Rambo: First Blood Part II, 1985)</td>\n",
              "    </tr>\n",
              "    <tr>\n",
              "      <th>3</th>\n",
              "      <td>30</td>\n",
              "      <td>5.0</td>\n",
              "      <td>(Something's Gotta Give, 2003)</td>\n",
              "    </tr>\n",
              "    <tr>\n",
              "      <th>4</th>\n",
              "      <td>30</td>\n",
              "      <td>5.0</td>\n",
              "      <td>(Something's Gotta Give, 2003)</td>\n",
              "    </tr>\n",
              "    <tr>\n",
              "      <th>5</th>\n",
              "      <td>51</td>\n",
              "      <td>5.0</td>\n",
              "      <td>(Jonah: A VeggieTales Movie: Bonus Material, 2...</td>\n",
              "    </tr>\n",
              "    <tr>\n",
              "      <th>6</th>\n",
              "      <td>103</td>\n",
              "      <td>5.0</td>\n",
              "      <td>(Sanford and Son: Season 6, 1976)</td>\n",
              "    </tr>\n",
              "    <tr>\n",
              "      <th>7</th>\n",
              "      <td>165</td>\n",
              "      <td>5.0</td>\n",
              "      <td>(Richard Pryor: Live on the Sunset Strip, 1982)</td>\n",
              "    </tr>\n",
              "    <tr>\n",
              "      <th>8</th>\n",
              "      <td>243</td>\n",
              "      <td>5.0</td>\n",
              "      <td>(Pressure Point, 1962)</td>\n",
              "    </tr>\n",
              "    <tr>\n",
              "      <th>9</th>\n",
              "      <td>159</td>\n",
              "      <td>5.0</td>\n",
              "      <td>(Gentlemen of Fortune, 1971)</td>\n",
              "    </tr>\n",
              "  </tbody>\n",
              "</table>\n",
              "</div>\n",
              "      <button class=\"colab-df-convert\" onclick=\"convertToInteractive('df-246b500c-3130-4f07-9c7c-39023d8159f6')\"\n",
              "              title=\"Convert this dataframe to an interactive table.\"\n",
              "              style=\"display:none;\">\n",
              "        \n",
              "  <svg xmlns=\"http://www.w3.org/2000/svg\" height=\"24px\"viewBox=\"0 0 24 24\"\n",
              "       width=\"24px\">\n",
              "    <path d=\"M0 0h24v24H0V0z\" fill=\"none\"/>\n",
              "    <path d=\"M18.56 5.44l.94 2.06.94-2.06 2.06-.94-2.06-.94-.94-2.06-.94 2.06-2.06.94zm-11 1L8.5 8.5l.94-2.06 2.06-.94-2.06-.94L8.5 2.5l-.94 2.06-2.06.94zm10 10l.94 2.06.94-2.06 2.06-.94-2.06-.94-.94-2.06-.94 2.06-2.06.94z\"/><path d=\"M17.41 7.96l-1.37-1.37c-.4-.4-.92-.59-1.43-.59-.52 0-1.04.2-1.43.59L10.3 9.45l-7.72 7.72c-.78.78-.78 2.05 0 2.83L4 21.41c.39.39.9.59 1.41.59.51 0 1.02-.2 1.41-.59l7.78-7.78 2.81-2.81c.8-.78.8-2.07 0-2.86zM5.41 20L4 18.59l7.72-7.72 1.47 1.35L5.41 20z\"/>\n",
              "  </svg>\n",
              "      </button>\n",
              "      \n",
              "  <style>\n",
              "    .colab-df-container {\n",
              "      display:flex;\n",
              "      flex-wrap:wrap;\n",
              "      gap: 12px;\n",
              "    }\n",
              "\n",
              "    .colab-df-convert {\n",
              "      background-color: #E8F0FE;\n",
              "      border: none;\n",
              "      border-radius: 50%;\n",
              "      cursor: pointer;\n",
              "      display: none;\n",
              "      fill: #1967D2;\n",
              "      height: 32px;\n",
              "      padding: 0 0 0 0;\n",
              "      width: 32px;\n",
              "    }\n",
              "\n",
              "    .colab-df-convert:hover {\n",
              "      background-color: #E2EBFA;\n",
              "      box-shadow: 0px 1px 2px rgba(60, 64, 67, 0.3), 0px 1px 3px 1px rgba(60, 64, 67, 0.15);\n",
              "      fill: #174EA6;\n",
              "    }\n",
              "\n",
              "    [theme=dark] .colab-df-convert {\n",
              "      background-color: #3B4455;\n",
              "      fill: #D2E3FC;\n",
              "    }\n",
              "\n",
              "    [theme=dark] .colab-df-convert:hover {\n",
              "      background-color: #434B5C;\n",
              "      box-shadow: 0px 1px 3px 1px rgba(0, 0, 0, 0.15);\n",
              "      filter: drop-shadow(0px 1px 2px rgba(0, 0, 0, 0.3));\n",
              "      fill: #FFFFFF;\n",
              "    }\n",
              "  </style>\n",
              "\n",
              "      <script>\n",
              "        const buttonEl =\n",
              "          document.querySelector('#df-246b500c-3130-4f07-9c7c-39023d8159f6 button.colab-df-convert');\n",
              "        buttonEl.style.display =\n",
              "          google.colab.kernel.accessAllowed ? 'block' : 'none';\n",
              "\n",
              "        async function convertToInteractive(key) {\n",
              "          const element = document.querySelector('#df-246b500c-3130-4f07-9c7c-39023d8159f6');\n",
              "          const dataTable =\n",
              "            await google.colab.kernel.invokeFunction('convertToInteractive',\n",
              "                                                     [key], {});\n",
              "          if (!dataTable) return;\n",
              "\n",
              "          const docLinkHtml = 'Like what you see? Visit the ' +\n",
              "            '<a target=\"_blank\" href=https://colab.research.google.com/notebooks/data_table.ipynb>data table notebook</a>'\n",
              "            + ' to learn more about interactive tables.';\n",
              "          element.innerHTML = '';\n",
              "          dataTable['output_type'] = 'display_data';\n",
              "          await google.colab.output.renderOutput(dataTable, element);\n",
              "          const docLink = document.createElement('div');\n",
              "          docLink.innerHTML = docLinkHtml;\n",
              "          element.appendChild(docLink);\n",
              "        }\n",
              "      </script>\n",
              "    </div>\n",
              "  </div>\n",
              "  "
            ]
          },
          "metadata": {},
          "execution_count": 60
        }
      ]
    },
    {
      "cell_type": "markdown",
      "source": [
        "## 6. Quais os id's dos 5 customers que mais avaliaram filmes e quantas avaliações cada um fez?"
      ],
      "metadata": {
        "id": "DxA5jg8ZMknw"
      }
    },
    {
      "cell_type": "code",
      "source": [
        "print('Os 5 customers que mais avaliaram filmes e quantas avaliações cada um fez')\n",
        "ratings_df\\\n",
        "  .withColumnRenamed('Cust_Id', 'Customer_IDs')\\\n",
        "  .groupby('Customer_IDs')\\\n",
        "  .count()\\\n",
        "  .withColumnRenamed('count', 'Avaliacoes')\\\n",
        "  .orderBy(F.desc('Avaliacoes'))\\\n",
        "  .show(5)"
      ],
      "metadata": {
        "colab": {
          "base_uri": "https://localhost:8080/"
        },
        "id": "Be8VC66x34GT",
        "outputId": "c9eb862f-1cfd-4bd9-c73a-49344d5e5a7f"
      },
      "execution_count": 77,
      "outputs": [
        {
          "output_type": "stream",
          "name": "stdout",
          "text": [
            "Os 5 customers que mais avaliaram filmes e quantas avaliações cada um fez\n",
            "+------------+----------+\n",
            "|Customer_IDs|Avaliacoes|\n",
            "+------------+----------+\n",
            "|      305344|       424|\n",
            "|      387418|       419|\n",
            "|     2439493|       404|\n",
            "|     1664010|       385|\n",
            "|     2118461|       362|\n",
            "+------------+----------+\n",
            "only showing top 5 rows\n",
            "\n"
          ]
        }
      ]
    }
  ]
}